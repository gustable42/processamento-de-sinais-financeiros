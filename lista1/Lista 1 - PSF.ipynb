{
 "cells": [
  {
   "cell_type": "code",
   "execution_count": 37,
   "metadata": {},
   "outputs": [],
   "source": [
    "import matplotlib.dates as mdates\n",
    "#from matplotlib.finance import candlestick_ohlc\n",
    "import datetime\n",
    "from pandas import *\n",
    "import matplotlib.mlab as mlab\n",
    "import scipy.signal as signal\n",
    "import matplotlib.pyplot as plt\n",
    "import numpy as np\n",
    "import pandas as pd\n",
    "import seaborn as sns\n",
    "import pandas_datareader.data as pdr\n",
    "import yfinance as yf\n",
    "import datetime as dt\n",
    "import matplotlib.ticker as mticker\n",
    "import functools\n",
    "sns.set()"
   ]
  },
  {
   "cell_type": "code",
   "execution_count": 89,
   "metadata": {
    "scrolled": true
   },
   "outputs": [],
   "source": [
    "class Volume:\n",
    "  def __init__(self, stock, value):\n",
    "    self.stock = stock\n",
    "    self.value = value\n",
    "\n",
    "\n",
    "def yahoo(symbols, start_date, end_date):\n",
    "    yf.pdr_override()       \n",
    "    stocks_yahoo = pdr.get_data_yahoo(symbols, start_date, end_date,   as_panel = False,)\n",
    "    return stocks_yahoo\n",
    "\n",
    "\n",
    "def get_best_stocks(indice_name):\n",
    "    print(f\"2019.09.28 {indice_name}.xls\")\n",
    "    data = pd.read_html(f\"./indices/2019.09.30 {indice_name}.xls\")[0]['Código']\n",
    "    data.to_frame()\n",
    "    data.values\n",
    "    symbols=list(data.values)\n",
    "\n",
    "    Stocks=[]\n",
    "    for symbol in symbols:\n",
    "        if len(symbol)==5:\n",
    "            Stocks.append(symbol)\n",
    "\n",
    "    Stocks=[Stocks[k]+'.SA' for k in range(len(Stocks))]\n",
    "\n",
    "    start_date = dt.datetime.now() - dt.timedelta(days=2*365)\n",
    "    end_date = dt.datetime.now()\n",
    "\n",
    "    all_stocks = yahoo(Stocks, start_date, end_date)\n",
    "    \n",
    "    volumes = all_stocks['Volume']\n",
    "    volumes_columns = list(volumes)\n",
    "\n",
    "    volumes_summation = []\n",
    "    for i in volumes_columns:\n",
    "        volume_object = Volume(i, functools.reduce(lambda x,y:x+y,volumes[i]))\n",
    "        volumes_summation.append(volume_object)\n",
    "\n",
    "\n",
    "    volumes_summation.sort(key=lambda x: x.value, reverse=True)\n",
    "    best_volumes = volumes_summation[0:3]\n",
    "    return best_volumes"
   ]
  },
  {
   "cell_type": "code",
   "execution_count": 94,
   "metadata": {
    "scrolled": true
   },
   "outputs": [
    {
     "name": "stdout",
     "output_type": "stream",
     "text": [
      "2019.09.28 IFNC.xls\n",
      "[*********************100%***********************]  15 of 15 downloaded\n",
      "2019.09.28 IMOB.xls\n",
      "[*********************100%***********************]  14 of 14 downloaded\n",
      "2019.09.28 ICON.xls\n",
      "[*********************100%***********************]  54 of 54 downloaded\n",
      "2019.09.28 UTIL.xls\n",
      "[*********************100%***********************]  17 of 17 downloaded\n",
      "2019.09.28 IEE.xls\n",
      "[*********************100%***********************]  15 of 15 downloaded\n"
     ]
    }
   ],
   "source": [
    "indices = [\"IFNC\", \"IMOB\", \"ICON\", \"UTIL\", \"IEE\"]\n",
    "best_indices = []\n",
    "for indice in indices:\n",
    "    best_stocks = get_best_stocks(indice)\n",
    "    best_indices.append(best_stocks)"
   ]
  },
  {
   "cell_type": "code",
   "execution_count": 100,
   "metadata": {},
   "outputs": [
    {
     "name": "stdout",
     "output_type": "stream",
     "text": [
      "BIDI4.SA\n",
      "ITSA4.SA\n",
      "ITUB4.SA\n",
      "ALSO3.SA\n",
      "BRML3.SA\n",
      "LOGG3.SA\n",
      "ABEV3.SA\n",
      "BKBR3.SA\n",
      "GNDI3.SA\n",
      "CESP6.SA\n",
      "CMIG3.SA\n",
      "CMIG4.SA\n",
      "CMIG4.SA\n",
      "ELET3.SA\n",
      "ENBR3.SA\n"
     ]
    }
   ],
   "source": [
    "for indice in best_indices:\n",
    "    print(indice[0].stock)\n",
    "    print(indice[1].stock)\n",
    "    print(indice[2].stock)"
   ]
  },
  {
   "cell_type": "code",
   "execution_count": null,
   "metadata": {},
   "outputs": [],
   "source": []
  }
 ],
 "metadata": {
  "kernelspec": {
   "display_name": "Python 3",
   "language": "python",
   "name": "python3"
  },
  "language_info": {
   "codemirror_mode": {
    "name": "ipython",
    "version": 3
   },
   "file_extension": ".py",
   "mimetype": "text/x-python",
   "name": "python",
   "nbconvert_exporter": "python",
   "pygments_lexer": "ipython3",
   "version": "3.7.3"
  }
 },
 "nbformat": 4,
 "nbformat_minor": 2
}
